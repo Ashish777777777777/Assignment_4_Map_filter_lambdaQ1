{
 "cells": [
  {
   "cell_type": "code",
   "execution_count": 3,
   "id": "f9d6b4b2",
   "metadata": {},
   "outputs": [
    {
     "name": "stdout",
     "output_type": "stream",
     "text": [
      "Sample input: 10\n",
      "Sample output: 35\n"
     ]
    }
   ],
   "source": [
    "add_25 = lambda x: x + 25\n",
    "\n",
    "# Sample input\n",
    "sample_input = 10\n",
    "sample_output = add_25(sample_input)\n",
    "\n",
    "print(f\"Sample input: {sample_input}\")\n",
    "print(f\"Sample output: {sample_output}\")\n"
   ]
  },
  {
   "cell_type": "code",
   "execution_count": null,
   "id": "e0726984",
   "metadata": {},
   "outputs": [],
   "source": []
  }
 ],
 "metadata": {
  "kernelspec": {
   "display_name": "Python 3 (ipykernel)",
   "language": "python",
   "name": "python3"
  },
  "language_info": {
   "codemirror_mode": {
    "name": "ipython",
    "version": 3
   },
   "file_extension": ".py",
   "mimetype": "text/x-python",
   "name": "python",
   "nbconvert_exporter": "python",
   "pygments_lexer": "ipython3",
   "version": "3.10.9"
  }
 },
 "nbformat": 4,
 "nbformat_minor": 5
}
